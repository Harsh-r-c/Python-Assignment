principle = input("Enter Principal :")
rate = input("Enter Rate :")
time = input("Enter Time :")
SI=(int(principle)*int(rate)*int(time))/100
print(SI)
