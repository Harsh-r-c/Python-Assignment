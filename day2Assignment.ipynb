list = [1,2,4,5,6,3,7,8]
for x in list:
  if x%2==0:
    print(x)
